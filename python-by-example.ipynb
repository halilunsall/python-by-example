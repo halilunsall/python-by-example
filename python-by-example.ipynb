{
 "cells": [
  {
   "cell_type": "markdown",
   "id": "6eacef3e",
   "metadata": {},
   "source": [
    "# -------------------------------------------BASICS-------------------------------------------"
   ]
  },
  {
   "cell_type": "markdown",
   "id": "ebfede19",
   "metadata": {},
   "source": [
    "# 001\n",
    "\n",
    "Ask for the user’s first name and display the output message\n",
    "\n",
    "Hello [First Name] ."
   ]
  },
  {
   "cell_type": "code",
   "execution_count": 2,
   "id": "ac75eeda",
   "metadata": {
    "scrolled": true
   },
   "outputs": [
    {
     "name": "stdout",
     "output_type": "stream",
     "text": [
      "Name: halil\n",
      "Hello Halil\n"
     ]
    }
   ],
   "source": [
    "name = input('Name: ').title()\n",
    "print(f\"Hello {name}\")"
   ]
  },
  {
   "cell_type": "markdown",
   "id": "0a9dc731",
   "metadata": {},
   "source": [
    "# 002\n",
    "\n",
    "Ask for the user’s first name and then ask for their surname and display the output message\n",
    "\n",
    "Hello [First Name] [Surname]. "
   ]
  },
  {
   "cell_type": "code",
   "execution_count": 4,
   "id": "4df477cf",
   "metadata": {},
   "outputs": [
    {
     "name": "stdout",
     "output_type": "stream",
     "text": [
      "Name: halil\n",
      "Surname: unsal\n",
      "Hello Halil Unsal\n"
     ]
    }
   ],
   "source": [
    "name = input('Name: ').title()\n",
    "sname = input('Surname: ').title()\n",
    "print(f\"Hello {name} {sname}\")"
   ]
  },
  {
   "cell_type": "markdown",
   "id": "472dd85d",
   "metadata": {},
   "source": [
    "# 003\n",
    "\n",
    "Write code that will display the joke “What do you call a bear with no teeth?” and on the next line display the answer “A gummy bear!” Try to create it using only one line of code. "
   ]
  },
  {
   "cell_type": "code",
   "execution_count": 5,
   "id": "64b23ffe",
   "metadata": {},
   "outputs": [
    {
     "name": "stdout",
     "output_type": "stream",
     "text": [
      "A: What do you call a bear with no teeth?\n",
      "B: A gummy bear!\n"
     ]
    }
   ],
   "source": [
    "print('A: What do you call a bear with no teeth?\\nB: A gummy bear!')"
   ]
  },
  {
   "cell_type": "markdown",
   "id": "478a1cde",
   "metadata": {},
   "source": [
    "# 004\n",
    "\n",
    "Ask the user to enter two numbers. Add them together and display the answer as\n",
    "\n",
    "The total is [answer]. "
   ]
  },
  {
   "cell_type": "code",
   "execution_count": 6,
   "id": "9038cc3d",
   "metadata": {},
   "outputs": [
    {
     "name": "stdout",
     "output_type": "stream",
     "text": [
      "1st Number: 7\n",
      "2nd Number: 4\n",
      "The total is 11\n"
     ]
    }
   ],
   "source": [
    "num1 = int(input('1st Number: '))\n",
    "num2 = int(input('2nd Number: '))\n",
    "print(f\"The total is {num1+num2}\")"
   ]
  },
  {
   "cell_type": "markdown",
   "id": "3de5e0f9",
   "metadata": {},
   "source": [
    "# 005\n",
    "\n",
    "Ask the user to enter three numbers. Add together the first two numbers and then multiply this total by the third. Display the answer as\n",
    "\n",
    "The answer is [answer]. "
   ]
  },
  {
   "cell_type": "code",
   "execution_count": 7,
   "id": "86475c63",
   "metadata": {
    "scrolled": true
   },
   "outputs": [
    {
     "name": "stdout",
     "output_type": "stream",
     "text": [
      "1st Number: 7\n",
      "2nd Number: 4\n",
      "3rd Number: 2\n",
      "The answer is 22\n"
     ]
    }
   ],
   "source": [
    "num1 = int(input('1st Number: '))\n",
    "num2 = int(input('2nd Number: '))\n",
    "num3 = int(input('3rd Number: '))\n",
    "print(f\"The answer is {(num1+num2)*num3}\")\n"
   ]
  },
  {
   "cell_type": "markdown",
   "id": "72395fd4",
   "metadata": {},
   "source": [
    "# 006\n",
    "\n",
    "Ask how many slices of pizza the user started with and ask how many slices they have eaten. Work out how many slices they have left and display the answer in a userfriendly format. "
   ]
  },
  {
   "cell_type": "code",
   "execution_count": 10,
   "id": "612eef6c",
   "metadata": {},
   "outputs": [
    {
     "name": "stdout",
     "output_type": "stream",
     "text": [
      "How Many Slices of Pizza: 30\n",
      "How Many Slices Eaten: 8\n",
      "22 slices of pizza left.\n"
     ]
    }
   ],
   "source": [
    "pizza = int(input('How Many Slices of Pizza: '))\n",
    "eaten = int(input('How Many Slices Eaten: '))\n",
    "print(f\"{pizza-eaten} slices of pizza left.\")"
   ]
  },
  {
   "cell_type": "markdown",
   "id": "4d5b5a00",
   "metadata": {},
   "source": [
    "# 007\n",
    "\n",
    "Ask the user for their name and their age. Add 1 to their age and display the output \n",
    "\n",
    "[Name] next birthday you will be [new age]. "
   ]
  },
  {
   "cell_type": "code",
   "execution_count": 11,
   "id": "d7875d2b",
   "metadata": {},
   "outputs": [
    {
     "name": "stdout",
     "output_type": "stream",
     "text": [
      "Name: halil\n",
      "Age: 20\n",
      "Halil next birthday you will be 21\n"
     ]
    }
   ],
   "source": [
    "name = input('Name: ').title()\n",
    "age = int(input('Age: '))\n",
    "print(f\"{name} next birthday you will be {age+1}\")"
   ]
  },
  {
   "cell_type": "markdown",
   "id": "f3173db2",
   "metadata": {},
   "source": [
    "# 008\n",
    "\n",
    "Ask for the total price of the bill, then ask how many diners there are. Divide the total bill by the number of diners and show how much each person must pay. "
   ]
  },
  {
   "cell_type": "code",
   "execution_count": 13,
   "id": "af4bcc82",
   "metadata": {},
   "outputs": [
    {
     "name": "stdout",
     "output_type": "stream",
     "text": [
      "What is the total cost of the bill: 100\n",
      "How many people are there: 100\n",
      "Each person should pay: 1.0\n"
     ]
    }
   ],
   "source": [
    "bill = int(input('What is the total cost of the bill: '))\n",
    "people = int(input('How many people are there: '))\n",
    "print(f\"Each person should pay: {bill/people}\")"
   ]
  },
  {
   "cell_type": "markdown",
   "id": "e4a8cf68",
   "metadata": {},
   "source": [
    "# 009\n",
    "\n",
    "Write a program that will ask for a number of days and then will show how many hours, minutes and seconds are in that number of days. "
   ]
  },
  {
   "cell_type": "code",
   "execution_count": 15,
   "id": "f3f851a1",
   "metadata": {},
   "outputs": [
    {
     "name": "stdout",
     "output_type": "stream",
     "text": [
      "How Many Day: 1\n",
      "1 day = 24 hours\n",
      "1 day = 1440 minutes\n",
      "1 day = 86400 seconds\n"
     ]
    }
   ],
   "source": [
    "day = int(input('How Many Day: '))\n",
    "print(f\"{day} day = {day*24} hours\\n{day} day = {day*24*60} minutes\\n{day} day = {day*24*60*60} seconds\")"
   ]
  },
  {
   "cell_type": "markdown",
   "id": "eaaf62aa",
   "metadata": {},
   "source": [
    "# 010\n",
    "\n",
    "There are 2,204 pounds in a kilogram. Ask the user to enter a weight in kilograms and convert it to pounds. "
   ]
  },
  {
   "cell_type": "code",
   "execution_count": 3,
   "id": "1c5645e1",
   "metadata": {},
   "outputs": [
    {
     "name": "stdout",
     "output_type": "stream",
     "text": [
      "Enter a weight in kilograms: 22\n",
      "22 kilograms = 48.48800000000001 pounds\n"
     ]
    }
   ],
   "source": [
    "ask = int(input('Enter a weight in kilograms: '))\n",
    "print(f\"{ask} kilograms = {ask*2.204} pounds\")"
   ]
  },
  {
   "cell_type": "markdown",
   "id": "542c50ff",
   "metadata": {},
   "source": [
    "# 011\n",
    "\n",
    "Task the user to enter a number over 100 and then enter a number under 10 and tell them how many times the smaller number goes into the larger number in a user-friendly format. "
   ]
  },
  {
   "cell_type": "code",
   "execution_count": 6,
   "id": "b24d0b08",
   "metadata": {},
   "outputs": [
    {
     "name": "stdout",
     "output_type": "stream",
     "text": [
      "Enter a number over 100:  440\n",
      "Enter a number under 10:  20\n",
      "20 goes into 440: 22\n"
     ]
    }
   ],
   "source": [
    "num1 = int(input('Enter a number over 100:  '))\n",
    "num2 = int(input('Enter a number under 10:  '))\n",
    "print(f\"{num2} goes into {num1}: {num1//num2}\")"
   ]
  },
  {
   "cell_type": "markdown",
   "id": "62e3a7bb",
   "metadata": {},
   "source": [
    "# ----------------------------------------IF STATEMENTS----------------------------------------"
   ]
  },
  {
   "cell_type": "code",
   "execution_count": null,
   "id": "a7192adb",
   "metadata": {},
   "outputs": [],
   "source": []
  },
  {
   "cell_type": "code",
   "execution_count": null,
   "id": "02996bf6",
   "metadata": {},
   "outputs": [],
   "source": []
  },
  {
   "cell_type": "code",
   "execution_count": null,
   "id": "44d9ade3",
   "metadata": {},
   "outputs": [],
   "source": []
  },
  {
   "cell_type": "code",
   "execution_count": null,
   "id": "5282fa60",
   "metadata": {},
   "outputs": [],
   "source": []
  },
  {
   "cell_type": "code",
   "execution_count": null,
   "id": "a4f40b74",
   "metadata": {},
   "outputs": [],
   "source": []
  },
  {
   "cell_type": "code",
   "execution_count": null,
   "id": "c7a62dfc",
   "metadata": {},
   "outputs": [],
   "source": []
  },
  {
   "cell_type": "code",
   "execution_count": null,
   "id": "c7c233ab",
   "metadata": {},
   "outputs": [],
   "source": []
  },
  {
   "cell_type": "code",
   "execution_count": null,
   "id": "d909b9d7",
   "metadata": {},
   "outputs": [],
   "source": []
  },
  {
   "cell_type": "code",
   "execution_count": null,
   "id": "8c8834ce",
   "metadata": {},
   "outputs": [],
   "source": []
  },
  {
   "cell_type": "code",
   "execution_count": null,
   "id": "6a50709e",
   "metadata": {},
   "outputs": [],
   "source": []
  },
  {
   "cell_type": "code",
   "execution_count": null,
   "id": "e833b773",
   "metadata": {},
   "outputs": [],
   "source": []
  },
  {
   "cell_type": "code",
   "execution_count": null,
   "id": "44416fc3",
   "metadata": {},
   "outputs": [],
   "source": []
  }
 ],
 "metadata": {
  "kernelspec": {
   "display_name": "Python 3 (ipykernel)",
   "language": "python",
   "name": "python3"
  },
  "language_info": {
   "codemirror_mode": {
    "name": "ipython",
    "version": 3
   },
   "file_extension": ".py",
   "mimetype": "text/x-python",
   "name": "python",
   "nbconvert_exporter": "python",
   "pygments_lexer": "ipython3",
   "version": "3.9.12"
  }
 },
 "nbformat": 4,
 "nbformat_minor": 5
}
