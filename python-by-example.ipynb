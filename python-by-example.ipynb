{
 "cells": [
  {
   "cell_type": "markdown",
   "id": "6eacef3e",
   "metadata": {},
   "source": [
    "# -------------------------------------------BASICS-------------------------------------------"
   ]
  },
  {
   "cell_type": "markdown",
   "id": "ebfede19",
   "metadata": {},
   "source": [
    "# 001\n",
    "Ask for the user’s first name and display the output message\n",
    "\n",
    "Hello [First Name] ."
   ]
  },
  {
   "cell_type": "code",
   "execution_count": 2,
   "id": "ac75eeda",
   "metadata": {
    "scrolled": true
   },
   "outputs": [
    {
     "name": "stdout",
     "output_type": "stream",
     "text": [
      "Name: halil\n",
      "Hello Halil\n"
     ]
    }
   ],
   "source": [
    "name = input('Name: ').title()\n",
    "print(f\"Hello {name}\")"
   ]
  },
  {
   "cell_type": "markdown",
   "id": "0a9dc731",
   "metadata": {},
   "source": [
    "# 002\n",
    "Ask for the user’s first name and then ask for their surname and display the output message\n",
    "\n",
    "Hello [First Name] [Surname]. "
   ]
  },
  {
   "cell_type": "code",
   "execution_count": 4,
   "id": "4df477cf",
   "metadata": {},
   "outputs": [
    {
     "name": "stdout",
     "output_type": "stream",
     "text": [
      "Name: halil\n",
      "Surname: unsal\n",
      "Hello Halil Unsal\n"
     ]
    }
   ],
   "source": [
    "name = input('Name: ').title()\n",
    "sname = input('Surname: ').title()\n",
    "print(f\"Hello {name} {sname}\")"
   ]
  },
  {
   "cell_type": "markdown",
   "id": "472dd85d",
   "metadata": {},
   "source": [
    "# 003\n",
    "Write code that will display the joke “What do you call a bear with no teeth?” and on the next line display the answer “A gummy bear!” Try to create it using only one line of code. "
   ]
  },
  {
   "cell_type": "code",
   "execution_count": 5,
   "id": "64b23ffe",
   "metadata": {},
   "outputs": [
    {
     "name": "stdout",
     "output_type": "stream",
     "text": [
      "A: What do you call a bear with no teeth?\n",
      "B: A gummy bear!\n"
     ]
    }
   ],
   "source": [
    "print('A: What do you call a bear with no teeth?\\nB: A gummy bear!')"
   ]
  },
  {
   "cell_type": "markdown",
   "id": "478a1cde",
   "metadata": {},
   "source": [
    "# 004\n",
    "Ask the user to enter two numbers. Add them together and display the answer as\n",
    "\n",
    "The total is [answer]. "
   ]
  },
  {
   "cell_type": "code",
   "execution_count": 6,
   "id": "9038cc3d",
   "metadata": {},
   "outputs": [
    {
     "name": "stdout",
     "output_type": "stream",
     "text": [
      "1st Number: 7\n",
      "2nd Number: 4\n",
      "The total is 11\n"
     ]
    }
   ],
   "source": [
    "num1 = int(input('1st Number: '))\n",
    "num2 = int(input('2nd Number: '))\n",
    "print(f\"The total is {num1+num2}\")"
   ]
  },
  {
   "cell_type": "markdown",
   "id": "3de5e0f9",
   "metadata": {},
   "source": [
    "# 005\n",
    "Ask the user to enter three numbers. Add together the first two numbers and then multiply this total by the third. Display the answer as\n",
    "\n",
    "The answer is [answer]. "
   ]
  },
  {
   "cell_type": "code",
   "execution_count": 7,
   "id": "86475c63",
   "metadata": {
    "scrolled": true
   },
   "outputs": [
    {
     "name": "stdout",
     "output_type": "stream",
     "text": [
      "1st Number: 7\n",
      "2nd Number: 4\n",
      "3rd Number: 2\n",
      "The answer is 22\n"
     ]
    }
   ],
   "source": [
    "num1 = int(input('1st Number: '))\n",
    "num2 = int(input('2nd Number: '))\n",
    "num3 = int(input('3rd Number: '))\n",
    "print(f\"The answer is {(num1+num2)*num3}\")\n"
   ]
  },
  {
   "cell_type": "markdown",
   "id": "72395fd4",
   "metadata": {},
   "source": [
    "# 006\n",
    "Ask how many slices of pizza the user started with and ask how many slices they have eaten. Work out how many slices they have left and display the answer in a userfriendly format. "
   ]
  },
  {
   "cell_type": "code",
   "execution_count": 10,
   "id": "612eef6c",
   "metadata": {},
   "outputs": [
    {
     "name": "stdout",
     "output_type": "stream",
     "text": [
      "How Many Slices of Pizza: 30\n",
      "How Many Slices Eaten: 8\n",
      "22 slices of pizza left.\n"
     ]
    }
   ],
   "source": [
    "pizza = int(input('How Many Slices of Pizza: '))\n",
    "eaten = int(input('How Many Slices Eaten: '))\n",
    "print(f\"{pizza-eaten} slices of pizza left.\")"
   ]
  },
  {
   "cell_type": "markdown",
   "id": "4d5b5a00",
   "metadata": {},
   "source": [
    "# 007\n",
    "Ask the user for their name and their age. Add 1 to their age and display the output \n",
    "\n",
    "[Name] next birthday you will be [new age]. "
   ]
  },
  {
   "cell_type": "code",
   "execution_count": 11,
   "id": "d7875d2b",
   "metadata": {},
   "outputs": [
    {
     "name": "stdout",
     "output_type": "stream",
     "text": [
      "Name: halil\n",
      "Age: 20\n",
      "Halil next birthday you will be 21\n"
     ]
    }
   ],
   "source": [
    "name = input('Name: ').title()\n",
    "age = int(input('Age: '))\n",
    "print(f\"{name} next birthday you will be {age+1}\")"
   ]
  },
  {
   "cell_type": "markdown",
   "id": "f3173db2",
   "metadata": {},
   "source": [
    "# 008\n",
    "Ask for the total price of the bill, then ask how many diners there are. Divide the total bill by the number of diners and show how much each person must pay. "
   ]
  },
  {
   "cell_type": "code",
   "execution_count": 13,
   "id": "af4bcc82",
   "metadata": {},
   "outputs": [
    {
     "name": "stdout",
     "output_type": "stream",
     "text": [
      "What is the total cost of the bill: 100\n",
      "How many people are there: 100\n",
      "Each person should pay: 1.0\n"
     ]
    }
   ],
   "source": [
    "bill = int(input('What is the total cost of the bill: '))\n",
    "people = int(input('How many people are there: '))\n",
    "print(f\"Each person should pay: {bill/people}\")"
   ]
  },
  {
   "cell_type": "markdown",
   "id": "e4a8cf68",
   "metadata": {},
   "source": [
    "# 009\n",
    "Write a program that will ask for a number of days and then will show how many hours, minutes and seconds are in that number of days. "
   ]
  },
  {
   "cell_type": "code",
   "execution_count": 15,
   "id": "f3f851a1",
   "metadata": {},
   "outputs": [
    {
     "name": "stdout",
     "output_type": "stream",
     "text": [
      "How Many Day: 1\n",
      "1 day = 24 hours\n",
      "1 day = 1440 minutes\n",
      "1 day = 86400 seconds\n"
     ]
    }
   ],
   "source": [
    "day = int(input('How Many Day: '))\n",
    "print(f\"{day} day = {day*24} hours\\n{day} day = {day*24*60} minutes\\n{day} day = {day*24*60*60} seconds\")"
   ]
  },
  {
   "cell_type": "markdown",
   "id": "eaaf62aa",
   "metadata": {},
   "source": [
    "# 010\n",
    "There are 2,204 pounds in a kilogram. Ask the user to enter a weight in kilograms and convert it to pounds. "
   ]
  },
  {
   "cell_type": "code",
   "execution_count": 3,
   "id": "1c5645e1",
   "metadata": {},
   "outputs": [
    {
     "name": "stdout",
     "output_type": "stream",
     "text": [
      "Enter a weight in kilograms: 22\n",
      "22 kilograms = 48.48800000000001 pounds\n"
     ]
    }
   ],
   "source": [
    "ask = int(input('Enter a weight in kilograms: '))\n",
    "print(f\"{ask} kilograms = {ask*2.204} pounds\")"
   ]
  },
  {
   "cell_type": "markdown",
   "id": "542c50ff",
   "metadata": {},
   "source": [
    "# 011\n",
    "Task the user to enter a number over 100 and then enter a number under 10 and tell them how many times the smaller number goes into the larger number in a user-friendly format. "
   ]
  },
  {
   "cell_type": "code",
   "execution_count": 6,
   "id": "b24d0b08",
   "metadata": {},
   "outputs": [
    {
     "name": "stdout",
     "output_type": "stream",
     "text": [
      "Enter a number over 100:  440\n",
      "Enter a number under 10:  20\n",
      "20 goes into 440: 22\n"
     ]
    }
   ],
   "source": [
    "num1 = int(input('Enter a number over 100:  '))\n",
    "num2 = int(input('Enter a number under 10:  '))\n",
    "print(f\"{num2} goes into {num1}: {num1//num2}\")"
   ]
  },
  {
   "cell_type": "markdown",
   "id": "62e3a7bb",
   "metadata": {},
   "source": [
    "# ----------------------------------------IF STATEMENTS----------------------------------------"
   ]
  },
  {
   "cell_type": "markdown",
   "id": "e808e5d0",
   "metadata": {},
   "source": [
    "# 012\n",
    "Ask for two numbers. If the first one is larger than the second, display the second number first and then the first number, otherwise show the first number first and then the second. "
   ]
  },
  {
   "cell_type": "code",
   "execution_count": 5,
   "id": "02996bf6",
   "metadata": {},
   "outputs": [
    {
     "name": "stdout",
     "output_type": "stream",
     "text": [
      "1st Number: 9\n",
      "2nd Number: 4\n",
      "4 - 9\n"
     ]
    }
   ],
   "source": [
    "num1 = int(input('1st Number: '))\n",
    "num2 = int(input('2nd Number: '))\n",
    "\n",
    "if num1 > num2:\n",
    "    print(num2, '-', num1)\n",
    "else:\n",
    "    print(num1, '-', num2)"
   ]
  },
  {
   "cell_type": "markdown",
   "id": "8743e8d9",
   "metadata": {},
   "source": [
    "# 013\n",
    "Ask the user to enter a number that is under 20. If they enter a number that is 20 or more, display the message “Too high”, otherwise display “Thank you”. "
   ]
  },
  {
   "cell_type": "code",
   "execution_count": 10,
   "id": "5282fa60",
   "metadata": {},
   "outputs": [
    {
     "name": "stdout",
     "output_type": "stream",
     "text": [
      "Enter a number less than 20: 20\n",
      "Too high!\n"
     ]
    }
   ],
   "source": [
    "num = int(input('Enter a number less than 20: '))\n",
    "if num >= 20:\n",
    "    print('Too high!')\n",
    "else:\n",
    "    print('Thank You!')"
   ]
  },
  {
   "cell_type": "markdown",
   "id": "93a38b26",
   "metadata": {},
   "source": [
    "# 014 \n",
    "Ask the user to enter a number between 10 and 20 (inclusive). If they enter a number within this range, display the message “Thank you”, otherwise display the message “Incorrect answer”. "
   ]
  },
  {
   "cell_type": "code",
   "execution_count": 18,
   "id": "d4c618e6",
   "metadata": {},
   "outputs": [
    {
     "name": "stdout",
     "output_type": "stream",
     "text": [
      "Enter a number between 10 and 20 (inclusive): 22\n",
      "Incorrect answer!\n"
     ]
    }
   ],
   "source": [
    "num = int(input('Enter a number between 10 and 20 (inclusive): '))\n",
    "if 10 <= num <= 20:\n",
    "    print('Thank You!')\n",
    "else:\n",
    "    print('Incorrect answer!')"
   ]
  },
  {
   "cell_type": "code",
   "execution_count": 15,
   "id": "c7a62dfc",
   "metadata": {},
   "outputs": [
    {
     "name": "stdout",
     "output_type": "stream",
     "text": [
      "Enter a number between 10 and 20 (inclusive): 14\n",
      "Thank You!\n"
     ]
    }
   ],
   "source": [
    "num = int(input('Enter a number between 10 and 20 (inclusive): '))\n",
    "if num in range(10, 21):\n",
    "    print('Thank You!')\n",
    "else:\n",
    "    print('Incorrect answer!')"
   ]
  },
  {
   "cell_type": "markdown",
   "id": "89afec5b",
   "metadata": {},
   "source": [
    "# 015\n",
    "Ask the user to enter their favourite colour. If they enter “red”, “RED” or “Red” display the message “I like red too”, otherwise display the message “I don’t like [colour], I prefer red”. "
   ]
  },
  {
   "cell_type": "code",
   "execution_count": 30,
   "id": "d909b9d7",
   "metadata": {},
   "outputs": [
    {
     "name": "stdout",
     "output_type": "stream",
     "text": [
      "Enter your favourite color: black\n",
      "I don't like black, I prefer red.\n"
     ]
    }
   ],
   "source": [
    "color = input('Enter your favourite color: ')\n",
    "\n",
    "if color == 'red' or color == 'Red' or color == 'RED':\n",
    "    print('I like red too!')\n",
    "else:\n",
    "    print(f\"I don't like {color}, I prefer red.\")"
   ]
  },
  {
   "cell_type": "markdown",
   "id": "f0730d0c",
   "metadata": {},
   "source": [
    "# 016\n",
    "Ask the user if it is raining and convert their answer to lower case so it doesn’t matter what case they type it in. If they answer “yes”, ask if it is windy. If they answer “yes” to this second question, display the answer “It is too windy for an umbrella”, otherwise display the message “Take an umbrella”. If they did not answer yes to the first question, display the answer “Enjoy your day”. "
   ]
  },
  {
   "cell_type": "code",
   "execution_count": 34,
   "id": "dcb14063",
   "metadata": {},
   "outputs": [
    {
     "name": "stdout",
     "output_type": "stream",
     "text": [
      "Is it raining?:\n",
      "(yes/no): yes\n",
      "It is windy?\n",
      "(yes/no): yes\n",
      "It is too windy for an umbrella.\n"
     ]
    }
   ],
   "source": [
    "ask = input('Is it raining?:\\n(yes/no): ').lower()\n",
    "\n",
    "if ask == 'yes':\n",
    "    ask2 = input('It is windy?\\n(yes/no): ')\n",
    "    if ask2 == 'yes':\n",
    "        print('It is too windy for an umbrella.')\n",
    "    else:\n",
    "        print('Take an umbrella!')\n",
    "else:\n",
    "    print('Enjoy your day!')\n",
    "        "
   ]
  },
  {
   "cell_type": "markdown",
   "id": "aa029ce2",
   "metadata": {},
   "source": [
    "# 017\n",
    "Ask the user’s age. If they are 18 or over, display the message “You can vote”, if they are aged 17, display the message “You can learn to drive”, if they are 16, display the message “You can buy a lottery ticket”, if they are under 16, display the message “You can go Trickor-Treating”. "
   ]
  },
  {
   "cell_type": "code",
   "execution_count": 41,
   "id": "bf2463b6",
   "metadata": {},
   "outputs": [
    {
     "name": "stdout",
     "output_type": "stream",
     "text": [
      "Enter your age: 20\n",
      "You can vote.\n"
     ]
    }
   ],
   "source": [
    "age = int(input('Enter your age: '))\n",
    "\n",
    "if age >= 18:\n",
    "    print('You can vote.')\n",
    "elif age == 17:\n",
    "    print('You can learn to drive.')\n",
    "elif age == 16:\n",
    "    print('You can buy a lottery ticket.')\n",
    "else:\n",
    "    print('You can go Trickor-Treating')"
   ]
  },
  {
   "cell_type": "markdown",
   "id": "c2b350c4",
   "metadata": {},
   "source": [
    "# 018\n",
    "Ask the user to enter a number. If it is under 10, display the message “Too low”, if their number is between 10 and 20, display “Correct”, otherwise display “Too high”. "
   ]
  },
  {
   "cell_type": "code",
   "execution_count": 45,
   "id": "ce5ef212",
   "metadata": {},
   "outputs": [
    {
     "name": "stdout",
     "output_type": "stream",
     "text": [
      "Enter a number: 22\n",
      "Too high!\n"
     ]
    }
   ],
   "source": [
    "num = int(input('Enter a number: '))\n",
    "\n",
    "if num < 10:\n",
    "    print('Too low!')\n",
    "elif 10 <= num <= 20:\n",
    "    print('Correct!')\n",
    "else:\n",
    "    print('Too high!')"
   ]
  },
  {
   "cell_type": "code",
   "execution_count": 67,
   "id": "6a50709e",
   "metadata": {},
   "outputs": [
    {
     "name": "stdout",
     "output_type": "stream",
     "text": [
      "Enter a number: 22\n",
      "Too High\n"
     ]
    }
   ],
   "source": [
    "num = int(input('Enter a number: '))\n",
    "\n",
    "print('Too low!') if num < 10 else (print('Correct!') if 10 <= num <=20 else print('Too High'))"
   ]
  },
  {
   "cell_type": "markdown",
   "id": "7f617031",
   "metadata": {},
   "source": [
    "# 019\n",
    "Ask the user to enter 1, 2 or 3. If they enter a 1, display the message “Thank you”, if they enter a 2, display “Well done”, if they enter a 3, display “Correct”. If they enter anything else, display “Error message”. "
   ]
  },
  {
   "cell_type": "code",
   "execution_count": 73,
   "id": "46a21529",
   "metadata": {},
   "outputs": [
    {
     "name": "stdout",
     "output_type": "stream",
     "text": [
      "Enter a number\n",
      "(1, 2 or 3): 7\n",
      "Error message!\n"
     ]
    }
   ],
   "source": [
    "ask = input('Enter a number\\n(1, 2 or 3): ')\n",
    "\n",
    "print('Thank you!') if ask == '1' else (print('Well done!') if ask == '2' else (print('Correct!') if ask == '3' else print('Error message!'))) "
   ]
  },
  {
   "cell_type": "markdown",
   "id": "2e83c674",
   "metadata": {},
   "source": [
    "# --------------------------------------STRINGS--------------------------------------"
   ]
  },
  {
   "cell_type": "markdown",
   "id": "14c7e08e",
   "metadata": {},
   "source": [
    "# 020\n",
    "Ask the user to enter their first name and then display the length of their name. "
   ]
  },
  {
   "cell_type": "code",
   "execution_count": null,
   "id": "d5ec1f28",
   "metadata": {},
   "outputs": [],
   "source": [
    "name = input('Enter your first name: ')\n",
    "name_len = len(name)\n",
    "print(name_len)"
   ]
  },
  {
   "cell_type": "markdown",
   "id": "d63c6919",
   "metadata": {},
   "source": [
    "# 021\n",
    "Ask the user to enter their first name and then ask them to enter their surname. Join them together with a space between and display the name and the length of whole name. "
   ]
  },
  {
   "cell_type": "code",
   "execution_count": null,
   "id": "e6716bb7",
   "metadata": {},
   "outputs": [],
   "source": [
    "fname = input('Enter your first name: ')\n",
    "lname = input('Enter your last name: ')\n",
    "ful_name = fname + ' ' + lname\n",
    "print(ful_name)\n",
    "print(len(ful_name))"
   ]
  },
  {
   "cell_type": "markdown",
   "id": "0b563bcf",
   "metadata": {},
   "source": [
    "# 022\n",
    "Ask the user to enter their first name and surname in lower case. Change the case to title case and join them together. Display the finished result. "
   ]
  },
  {
   "cell_type": "code",
   "execution_count": null,
   "id": "858762ff",
   "metadata": {},
   "outputs": [],
   "source": [
    "name = input('Enter your name in lowercase: ')\n",
    "name = name.title()\n",
    "print(name)"
   ]
  },
  {
   "cell_type": "markdown",
   "id": "e7312203",
   "metadata": {},
   "source": [
    "# 023\n",
    "Ask the user to type in the first line of a nursery rhyme and display the length of the string. Ask for a starting number and an ending number and then display just that section of the text (remember Python starts counting from 0 and not 1). "
   ]
  },
  {
   "cell_type": "code",
   "execution_count": null,
   "id": "aec44880",
   "metadata": {},
   "outputs": [],
   "source": [
    "text = input('Enter the first line of a nursery rhyme: ')\n",
    "print(f'Entry Length: {len(text)}')\n",
    "start = int(input('Enter Start: '))\n",
    "end = int(input('Enter End: '))\n",
    "print(text[start:end])"
   ]
  },
  {
   "cell_type": "markdown",
   "id": "87baca05",
   "metadata": {},
   "source": [
    "# 024\n",
    "Ask the user to type in any word and display it in upper case. "
   ]
  },
  {
   "cell_type": "code",
   "execution_count": null,
   "id": "2aeceaaf",
   "metadata": {},
   "outputs": [],
   "source": [
    "word = input('Enter a word: ').upper()\n",
    "print(word)"
   ]
  },
  {
   "cell_type": "markdown",
   "id": "b1e6116e",
   "metadata": {},
   "source": [
    "# 025\n",
    "Ask the user to enter their first name. If the length of their first name is under five characters, ask them to enter their surname and join them together (without a space) and display the name in upper case. If the length of the first name is five or more characters, display their first name in lower case. "
   ]
  },
  {
   "cell_type": "code",
   "execution_count": null,
   "id": "508faba3",
   "metadata": {},
   "outputs": [],
   "source": [
    "fname = input('Enter your first name: ')\n",
    "\n",
    "if len(fname)<5:\n",
    "    lname = input('Enter your last name: ')\n",
    "    ful_name = fname+lname\n",
    "    print(ful_name.upper())\n",
    "else:\n",
    "    print(fname.lower())"
   ]
  },
  {
   "cell_type": "markdown",
   "id": "c39ac73d",
   "metadata": {},
   "source": [
    "# 026\n",
    "Pig Latin takes the first consonant of a word, moves it to the end of the word and adds on an “ay”. If a word begins with a vowel you just add “way” to the end. For example, pig becomes igpay, banana becomes ananabay, and aadvark becomes aadvarkway. Create a program that will ask the user to enter a word and change it into Pig Latin. Make sure the new word is displayed in lower case. "
   ]
  },
  {
   "cell_type": "code",
   "execution_count": null,
   "id": "3ad8b3ea",
   "metadata": {},
   "outputs": [],
   "source": [
    "word = input('Enter a word: ')\n",
    "\n",
    "if not word.startswith('a' or 'e' or 'i' or 'o' or 'u'):\n",
    "    word = word[1:len(word)] + word[0] + 'ay'    \n",
    "else:\n",
    "    word = word + 'way'   \n",
    "print(word)"
   ]
  },
  {
   "cell_type": "markdown",
   "id": "a1671e97",
   "metadata": {},
   "source": [
    "# ------------------------------------------------MATHS------------------------------------------------"
   ]
  },
  {
   "cell_type": "markdown",
   "id": "9cd04632",
   "metadata": {},
   "source": [
    "# 027\n",
    "Ask the user to enter a number with lots of decimal places. Multiply this number by two and display the answer."
   ]
  },
  {
   "cell_type": "code",
   "execution_count": 1,
   "id": "af5c9b26",
   "metadata": {},
   "outputs": [
    {
     "name": "stdout",
     "output_type": "stream",
     "text": [
      "Enter a number with lots of decimal places: 4251\n",
      "8502\n"
     ]
    }
   ],
   "source": [
    "num = int(input('Enter a number with lots of decimal places: '))\n",
    "print(num*2)"
   ]
  },
  {
   "cell_type": "markdown",
   "id": "a484e7e7",
   "metadata": {},
   "source": [
    "# 028\n",
    "Update program 027 so that it will display the answer to two decimal places."
   ]
  },
  {
   "cell_type": "code",
   "execution_count": 2,
   "id": "4884d567",
   "metadata": {},
   "outputs": [
    {
     "name": "stdout",
     "output_type": "stream",
     "text": [
      "Enter a number with lots of decimal places: 22.841234\n",
      "45.682468\n",
      "45.68\n"
     ]
    }
   ],
   "source": [
    "num = float(input('Enter a number with lots of decimal places: '))\n",
    "print(num*2)\n",
    "print(round(num*2,2))"
   ]
  },
  {
   "cell_type": "markdown",
   "id": "e25abba5",
   "metadata": {},
   "source": [
    "# 029\n",
    "Ask the user to enter an integer that is over 500. Work out the square root of that number and display it to two decimal places."
   ]
  },
  {
   "cell_type": "code",
   "execution_count": 3,
   "id": "6b4af94c",
   "metadata": {},
   "outputs": [
    {
     "name": "stdout",
     "output_type": "stream",
     "text": [
      "Enter an integer that is over 500: 9874\n",
      "99.36800289831733\n",
      "99.37\n"
     ]
    }
   ],
   "source": [
    "num = int(input('Enter an integer that is over 500: '))\n",
    "print(num**(1/2))\n",
    "print(round(num**(1/2),2))"
   ]
  },
  {
   "cell_type": "code",
   "execution_count": 4,
   "id": "69bd10d2",
   "metadata": {},
   "outputs": [
    {
     "name": "stdout",
     "output_type": "stream",
     "text": [
      "Enter an integer that is over 500: 9874\n",
      "99.37\n"
     ]
    }
   ],
   "source": [
    "import math\n",
    "num = int(input('Enter an integer that is over 500: '))\n",
    "print(round(math.sqrt(num),2))"
   ]
  },
  {
   "cell_type": "markdown",
   "id": "4e996c7f",
   "metadata": {},
   "source": [
    "# 030\n",
    "Display pi (π) to five decimal places."
   ]
  },
  {
   "cell_type": "code",
   "execution_count": 5,
   "id": "f2553817",
   "metadata": {},
   "outputs": [
    {
     "name": "stdout",
     "output_type": "stream",
     "text": [
      "3.14\n"
     ]
    }
   ],
   "source": [
    "import math\n",
    "\n",
    "print(round(math.pi,2))"
   ]
  },
  {
   "cell_type": "markdown",
   "id": "7ecf2677",
   "metadata": {},
   "source": [
    "# 031\n",
    "Ask the user to enter the radius of a circle (measurement from the centre point to the edge). Work out the area of the circle (π*radius2)."
   ]
  },
  {
   "cell_type": "code",
   "execution_count": 6,
   "id": "c83bdcb8",
   "metadata": {},
   "outputs": [
    {
     "name": "stdout",
     "output_type": "stream",
     "text": [
      "Enter the radius of a circle: 14\n",
      "615.7521601035994\n"
     ]
    }
   ],
   "source": [
    "import math\n",
    "radius = int(input('Enter the radius of a circle: '))\n",
    "print(math.pi*(radius**2))"
   ]
  },
  {
   "cell_type": "markdown",
   "id": "2a0678b8",
   "metadata": {},
   "source": [
    "# 032\n",
    "Ask for the radius and the depth of a cylinder and work out the total volume (circle area*depth) rounded to three decimal places."
   ]
  },
  {
   "cell_type": "code",
   "execution_count": 7,
   "id": "4a8dd8ef",
   "metadata": {},
   "outputs": [
    {
     "name": "stdout",
     "output_type": "stream",
     "text": [
      "Enter the radius of a cylinder: 14\n",
      "Enter the depth of a cylinder: 1\n",
      "615.752\n"
     ]
    }
   ],
   "source": [
    "import math\n",
    "radius = int(input('Enter the radius of a cylinder: '))\n",
    "depth = int(input('Enter the depth of a cylinder: '))\n",
    "area = math.pi*(radius**2)*depth\n",
    "print(round(area,3))"
   ]
  },
  {
   "cell_type": "markdown",
   "id": "f93b2002",
   "metadata": {},
   "source": [
    "# 033\n",
    "Ask the user to enter two numbers. Use whole number division to divide the first number by the second and also work out the remainder and display the answer in a user-friendly way (e.g. if they enter 7 and 2 display “7 divided by 2 is 3 with 1 remaining”)."
   ]
  },
  {
   "cell_type": "code",
   "execution_count": 8,
   "id": "79d32a48",
   "metadata": {},
   "outputs": [
    {
     "name": "stdout",
     "output_type": "stream",
     "text": [
      "Enter a number: 9\n",
      "Enter a number: 4\n",
      "9 divided by 4 is 2 with 1 remaining\n"
     ]
    }
   ],
   "source": [
    "num1 = int(input('Enter a number: '))\n",
    "num2 = int(input('Enter a number: '))\n",
    "answer_1 = num1//num2\n",
    "answer_2 = num1%num2\n",
    "print(f\"{num1} divided by {num2} is {answer_1} with {answer_2} remaining\")"
   ]
  },
  {
   "cell_type": "markdown",
   "id": "5c04d1e7",
   "metadata": {},
   "source": [
    "# 034\n",
    "Display the following message: If the user enters 1, then it should ask them for the length of one of its sides and display the area. If they select 2, it should ask for the base and height of the triangle and display the area. If they type in anything else, it should give them a suitable error message."
   ]
  },
  {
   "cell_type": "code",
   "execution_count": 10,
   "id": "c982ee5d",
   "metadata": {},
   "outputs": [
    {
     "name": "stdout",
     "output_type": "stream",
     "text": [
      "Select on of them:\n",
      "(1 or 2) 1\n",
      "Enter the length of one of one side: 6\n",
      "The are is 36\n"
     ]
    }
   ],
   "source": [
    "ask = input('Select on of them:\\n(1 or 2) ')\n",
    "\n",
    "if ask == '1':\n",
    "    side = int(input('Enter the length of one of one side: '))\n",
    "    area = side*side\n",
    "    print(f'The are is {area}')\n",
    "elif ask == '2':\n",
    "    base = int(input('Enter the base of the triangle: '))\n",
    "    height = int(input('Enter the height of the triangle: '))\n",
    "    area = (base*height)/2\n",
    "    print(f'The area is {area}')\n",
    "else:\n",
    "    print('Invalid Entry')"
   ]
  },
  {
   "cell_type": "markdown",
   "id": "35c941ef",
   "metadata": {},
   "source": [
    "# ----------------------------------------------FOR LOOP----------------------------------------------"
   ]
  },
  {
   "cell_type": "markdown",
   "id": "19d8effc",
   "metadata": {},
   "source": [
    "# 035\n",
    "Ask the user to enter their name and then display their name three times."
   ]
  },
  {
   "cell_type": "code",
   "execution_count": 1,
   "id": "4eb0a762",
   "metadata": {},
   "outputs": [
    {
     "name": "stdout",
     "output_type": "stream",
     "text": [
      "Name: halil\n",
      "halil\n",
      "halil\n",
      "halil\n"
     ]
    }
   ],
   "source": [
    "name = input('Name: ')\n",
    "for i in range(3):\n",
    "    print(name)"
   ]
  },
  {
   "cell_type": "markdown",
   "id": "c73d3572",
   "metadata": {},
   "source": [
    "# 036\n",
    "Alter program 035 so that it will ask the user to enter their name and a number and then display their name that number of times."
   ]
  },
  {
   "cell_type": "code",
   "execution_count": 2,
   "id": "588af759",
   "metadata": {},
   "outputs": [
    {
     "name": "stdout",
     "output_type": "stream",
     "text": [
      "Name: halil\n",
      "Number:3\n",
      "halil\n",
      "halil\n",
      "halil\n"
     ]
    }
   ],
   "source": [
    "name = input('Name: ')\n",
    "num = int(input('Number:' ))\n",
    "for i in range(num):\n",
    "    print(name)"
   ]
  },
  {
   "cell_type": "markdown",
   "id": "c4f44a4c",
   "metadata": {},
   "source": [
    "# 037\n",
    "Ask the user to enter their name and display each letter in their name on a separate line."
   ]
  },
  {
   "cell_type": "code",
   "execution_count": 3,
   "id": "10022818",
   "metadata": {},
   "outputs": [
    {
     "name": "stdout",
     "output_type": "stream",
     "text": [
      "Name: HALIL\n",
      "H\n",
      "A\n",
      "L\n",
      "I\n",
      "L\n"
     ]
    }
   ],
   "source": [
    "name = input('Name: ')\n",
    "for i in name:\n",
    "    print(i)"
   ]
  },
  {
   "cell_type": "markdown",
   "id": "de4820cd",
   "metadata": {},
   "source": [
    "# 038\n",
    "Change program 037 to also ask for a number. Display their name (one letter at a time on each line) and repeat this for the number of times they entered."
   ]
  },
  {
   "cell_type": "code",
   "execution_count": 4,
   "id": "ca4e7496",
   "metadata": {},
   "outputs": [
    {
     "name": "stdout",
     "output_type": "stream",
     "text": [
      "Name: halil\n",
      "Number:2\n",
      "h\n",
      "a\n",
      "l\n",
      "i\n",
      "l\n",
      "h\n",
      "a\n",
      "l\n",
      "i\n",
      "l\n"
     ]
    }
   ],
   "source": [
    "name = input('Name: ')\n",
    "num = int(input('Number:' ))\n",
    "for i in range(num):\n",
    "    for i in name:\n",
    "        print(i)"
   ]
  },
  {
   "cell_type": "markdown",
   "id": "d03ac44e",
   "metadata": {},
   "source": [
    "# 039\n",
    "Ask the user to enter a number between 1 and 12 and then display the times table for that number."
   ]
  },
  {
   "cell_type": "code",
   "execution_count": 5,
   "id": "dc99b7c1",
   "metadata": {},
   "outputs": [
    {
     "name": "stdout",
     "output_type": "stream",
     "text": [
      "Number(1-12):4\n",
      "4x0=0\n",
      "4x1=4\n",
      "4x2=8\n",
      "4x3=12\n",
      "4x4=16\n",
      "4x5=20\n",
      "4x6=24\n",
      "4x7=28\n",
      "4x8=32\n",
      "4x9=36\n",
      "4x10=40\n"
     ]
    }
   ],
   "source": [
    "num = int(input('Number(1-12):' ))\n",
    "for i in range(11):\n",
    "    print(f\"{num}x{i}={num*i}\")"
   ]
  },
  {
   "cell_type": "markdown",
   "id": "99786614",
   "metadata": {},
   "source": [
    "# 040\n",
    "Ask for a number below 50 and then count down from 50 to that number, making sure you show the number they entered in the output."
   ]
  },
  {
   "cell_type": "code",
   "execution_count": 6,
   "id": "11b9a389",
   "metadata": {},
   "outputs": [
    {
     "name": "stdout",
     "output_type": "stream",
     "text": [
      "Number(<50):36\n",
      "50\n",
      "49\n",
      "48\n",
      "47\n",
      "46\n",
      "45\n",
      "44\n",
      "43\n",
      "42\n",
      "41\n",
      "40\n",
      "39\n",
      "38\n",
      "37\n",
      "36\n"
     ]
    }
   ],
   "source": [
    "num = int(input('Number(<50):' ))\n",
    "for i in range(50,num-1,-1):\n",
    "    print(i)"
   ]
  },
  {
   "cell_type": "markdown",
   "id": "f58ed6d7",
   "metadata": {},
   "source": [
    "# 041\n",
    "Ask the user to enter their name and a number. If the number is less than 10, then display their name that number of times; otherwise display the message “Too high” three times."
   ]
  },
  {
   "cell_type": "code",
   "execution_count": 7,
   "id": "d94a89d8",
   "metadata": {},
   "outputs": [
    {
     "name": "stdout",
     "output_type": "stream",
     "text": [
      "Name: halil\n",
      "Number:4\n",
      "halil\n",
      "halil\n",
      "halil\n",
      "halil\n"
     ]
    }
   ],
   "source": [
    "name = input('Name: ')\n",
    "num = int(input('Number:' ))\n",
    "if num <10:\n",
    "    for i in range(num):\n",
    "        print(name)\n",
    "else:\n",
    "    for i in range(3):\n",
    "        print('Too High!')"
   ]
  },
  {
   "cell_type": "markdown",
   "id": "7f1d3c83",
   "metadata": {},
   "source": [
    "# 042\n",
    "Set a variable called total to 0. Ask the user to enter five numbers and after each input ask them if they want that number included. If they do, then add the number to the total. If they do not want it included, don’t add it to the total. After they have entered all five numbers, display the total."
   ]
  },
  {
   "cell_type": "code",
   "execution_count": 8,
   "id": "03c444e5",
   "metadata": {},
   "outputs": [
    {
     "name": "stdout",
     "output_type": "stream",
     "text": [
      "Total: 0\n",
      "Number: 15\n",
      "Included(y/n): Y\n",
      "Number: 47\n",
      "Included(y/n): n\n",
      "Number: 57\n",
      "Included(y/n): n\n",
      "Number: 20\n",
      "Included(y/n): y\n",
      "Number: 1\n",
      "Included(y/n): y\n",
      "New Total: 36\n"
     ]
    }
   ],
   "source": [
    "total = 0\n",
    "print(f'Total: {total}')\n",
    "for i in range(5):\n",
    "    num = int(input('Number: '))\n",
    "    ask = input('Included(y/n): ').lower()\n",
    "    if ask == 'y':\n",
    "        total += num\n",
    "print(f'New Total: {total}')"
   ]
  },
  {
   "cell_type": "markdown",
   "id": "94ceffa2",
   "metadata": {},
   "source": [
    "# 043\n",
    "Ask which direction the user wants to count (up or down). If they select up, then ask them for the top number and then count from 1 to that number. If they select down, ask them to enter a number below 20 and then count down from 20 to that number. If they entered something other than up or down, display the message “I don’t understand”."
   ]
  },
  {
   "cell_type": "code",
   "execution_count": 9,
   "id": "47f670cb",
   "metadata": {},
   "outputs": [
    {
     "name": "stdout",
     "output_type": "stream",
     "text": [
      "Up or Down: up\n",
      "Top Number: 36\n",
      "1\n",
      "2\n",
      "3\n",
      "4\n",
      "5\n",
      "6\n",
      "7\n",
      "8\n",
      "9\n",
      "10\n",
      "11\n",
      "12\n",
      "13\n",
      "14\n",
      "15\n",
      "16\n",
      "17\n",
      "18\n",
      "19\n",
      "20\n",
      "21\n",
      "22\n",
      "23\n",
      "24\n",
      "25\n",
      "26\n",
      "27\n",
      "28\n",
      "29\n",
      "30\n",
      "31\n",
      "32\n",
      "33\n",
      "34\n",
      "35\n",
      "36\n"
     ]
    }
   ],
   "source": [
    "choose = input('Up or Down: ').lower()\n",
    "if choose == 'up':\n",
    "    num = int(input('Top Number: '))\n",
    "    for i in range(1,num+1):\n",
    "        print(i)\n",
    "elif choose == 'down':\n",
    "    num = int(input('Number(<20): '))\n",
    "    for i in range(20,num-1,-1):\n",
    "        print(i)\n",
    "else:\n",
    "    print('I don’t understand')"
   ]
  },
  {
   "cell_type": "markdown",
   "id": "67b77d33",
   "metadata": {},
   "source": [
    "# 044\n",
    "Ask how many people the user wants to invite to a party. If they enter a number below 10, ask for the names and after each name display “[name] has been invited”. If they enter a number which is 10 or higher, display the message “Too many people”."
   ]
  },
  {
   "cell_type": "code",
   "execution_count": 10,
   "id": "6c6291d3",
   "metadata": {},
   "outputs": [
    {
     "name": "stdout",
     "output_type": "stream",
     "text": [
      "How many people do you want to invite to a party: 36\n",
      "Too many people!\n"
     ]
    }
   ],
   "source": [
    "ask = int(input('How many people do you want to invite to a party: '))\n",
    "if ask < 10:\n",
    "    for i in range(ask):\n",
    "        name = input('Name: ')\n",
    "        print(f\"{name} has been invited.\")\n",
    "else:\n",
    "    print('Too many people!')"
   ]
  },
  {
   "cell_type": "markdown",
   "id": "1e1ce446",
   "metadata": {},
   "source": [
    "# ------------------------------------------WHILE LOOP------------------------------------------"
   ]
  },
  {
   "cell_type": "markdown",
   "id": "25334446",
   "metadata": {},
   "source": [
    "# 045\n",
    "Set the total to 0 to start with. While the total is 50 or less, ask the user to input a number. Add that number to the total and print the message “The total is… [total]”. Stop the loop when the total is over 50"
   ]
  },
  {
   "cell_type": "code",
   "execution_count": null,
   "id": "707adaf2",
   "metadata": {},
   "outputs": [],
   "source": []
  },
  {
   "cell_type": "markdown",
   "id": "afbd95ec",
   "metadata": {},
   "source": [
    "# 046\n",
    "Ask the user to enter a number. Keep asking until they enter a value over 5 and then display the message “The last number you entered was a [number]” and stop the program. "
   ]
  },
  {
   "cell_type": "code",
   "execution_count": null,
   "id": "66d6384a",
   "metadata": {},
   "outputs": [],
   "source": []
  },
  {
   "cell_type": "markdown",
   "id": "322bb69a",
   "metadata": {},
   "source": [
    "# 047\n",
    "Ask the user to enter a number and then enter another number. Add these two numbers together and then ask if they want to add another number. If they enter “y\", ask them to enter another number and keep adding numbers until they do not answer “y”. Once the loop has stopped, display the total."
   ]
  },
  {
   "cell_type": "code",
   "execution_count": null,
   "id": "8fd596e2",
   "metadata": {},
   "outputs": [],
   "source": []
  },
  {
   "cell_type": "markdown",
   "id": "75b9104a",
   "metadata": {},
   "source": [
    "# 048\n",
    "Ask for the name of somebody the user wants to invite to a party. After this, display the message “[name] has now been invited” and add 1 to the count. Then ask if they want to invite somebody else. Keep repeating this until they no longer want to invite anyone else to the party and then display how many people they have coming to the party. "
   ]
  },
  {
   "cell_type": "code",
   "execution_count": null,
   "id": "62b7be5c",
   "metadata": {},
   "outputs": [],
   "source": []
  },
  {
   "cell_type": "markdown",
   "id": "25aded54",
   "metadata": {},
   "source": [
    "# 049\n",
    "Create a variable called compnum and set the value to 50. Ask the user to enter a number. While their guess is not the same as the compnum value, tell them if their guess is too low or too high and ask them to have another guess. If they enter the same value as compnum, display the message “Well done, you took [count] attempts”. "
   ]
  },
  {
   "cell_type": "code",
   "execution_count": null,
   "id": "b1b4f326",
   "metadata": {},
   "outputs": [],
   "source": []
  },
  {
   "cell_type": "markdown",
   "id": "e15e1224",
   "metadata": {},
   "source": [
    "# 050\n",
    "Ask the user to enter a number between 10 and 20. If they enter a value under 10, display the message “Too low” and ask them to try again. If they enter a value above 20, display the message “Too high” and ask them to try again. Keep repeating this until they enter a value that is between 10 and 20 and then display the message “Thank you”. "
   ]
  },
  {
   "cell_type": "code",
   "execution_count": null,
   "id": "d5fc7403",
   "metadata": {},
   "outputs": [],
   "source": []
  },
  {
   "cell_type": "markdown",
   "id": "724bbeca",
   "metadata": {},
   "source": [
    "# 051\n",
    "Using the song “10 green bottles”, display the lines “There are [num] green bottles hanging on the wall, [num] green bottles hanging on the wall, and if 1 green bottle should accidentally fall”. Then ask the question “how many green bottles will be hanging on the wall?” If the user answers correctly, display the message “There will be [num] green bottles hanging on the wall”. If they answer incorrectly, display the message “No, try again” until they get it right. When the number of green bottles gets down to 0, display the message “There are no more green bottles hanging on the wall”. "
   ]
  },
  {
   "cell_type": "code",
   "execution_count": null,
   "id": "c97cf3ca",
   "metadata": {},
   "outputs": [],
   "source": []
  }
 ],
 "metadata": {
  "kernelspec": {
   "display_name": "Python 3 (ipykernel)",
   "language": "python",
   "name": "python3"
  },
  "language_info": {
   "codemirror_mode": {
    "name": "ipython",
    "version": 3
   },
   "file_extension": ".py",
   "mimetype": "text/x-python",
   "name": "python",
   "nbconvert_exporter": "python",
   "pygments_lexer": "ipython3",
   "version": "3.9.13"
  }
 },
 "nbformat": 4,
 "nbformat_minor": 5
}
