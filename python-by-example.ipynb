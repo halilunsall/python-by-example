{
 "cells": [
  {
   "cell_type": "markdown",
   "id": "6eacef3e",
   "metadata": {},
   "source": [
    "# -------------------------------------------BASICS-------------------------------------------"
   ]
  },
  {
   "cell_type": "markdown",
   "id": "ebfede19",
   "metadata": {},
   "source": [
    "# 001\n",
    "\n",
    "Ask for the user’s first name and display the output message\n",
    "\n",
    "Hello [First Name] ."
   ]
  },
  {
   "cell_type": "code",
   "execution_count": 2,
   "id": "ac75eeda",
   "metadata": {
    "scrolled": true
   },
   "outputs": [
    {
     "name": "stdout",
     "output_type": "stream",
     "text": [
      "Name: halil\n",
      "Hello Halil\n"
     ]
    }
   ],
   "source": [
    "name = input('Name: ').title()\n",
    "print(f\"Hello {name}\")"
   ]
  },
  {
   "cell_type": "markdown",
   "id": "0a9dc731",
   "metadata": {},
   "source": [
    "# 002\n",
    "\n",
    "Ask for the user’s first name and then ask for their surname and display the output message\n",
    "\n",
    "Hello [First Name] [Surname]. "
   ]
  },
  {
   "cell_type": "code",
   "execution_count": 4,
   "id": "4df477cf",
   "metadata": {},
   "outputs": [
    {
     "name": "stdout",
     "output_type": "stream",
     "text": [
      "Name: halil\n",
      "Surname: unsal\n",
      "Hello Halil Unsal\n"
     ]
    }
   ],
   "source": [
    "name = input('Name: ').title()\n",
    "sname = input('Surname: ').title()\n",
    "print(f\"Hello {name} {sname}\")"
   ]
  },
  {
   "cell_type": "markdown",
   "id": "472dd85d",
   "metadata": {},
   "source": [
    "# 003\n",
    "\n",
    "Write code that will display the joke “What do you call a bear with no teeth?” and on the next line display the answer “A gummy bear!” Try to create it using only one line of code. "
   ]
  },
  {
   "cell_type": "code",
   "execution_count": 5,
   "id": "64b23ffe",
   "metadata": {},
   "outputs": [
    {
     "name": "stdout",
     "output_type": "stream",
     "text": [
      "A: What do you call a bear with no teeth?\n",
      "B: A gummy bear!\n"
     ]
    }
   ],
   "source": [
    "print('A: What do you call a bear with no teeth?\\nB: A gummy bear!')"
   ]
  },
  {
   "cell_type": "markdown",
   "id": "478a1cde",
   "metadata": {},
   "source": [
    "# 004\n",
    "\n",
    "Ask the user to enter two numbers. Add them together and display the answer as\n",
    "\n",
    "The total is [answer]. "
   ]
  },
  {
   "cell_type": "code",
   "execution_count": 6,
   "id": "9038cc3d",
   "metadata": {},
   "outputs": [
    {
     "name": "stdout",
     "output_type": "stream",
     "text": [
      "1st Number: 7\n",
      "2nd Number: 4\n",
      "The total is 11\n"
     ]
    }
   ],
   "source": [
    "num1 = int(input('1st Number: '))\n",
    "num2 = int(input('2nd Number: '))\n",
    "print(f\"The total is {num1+num2}\")"
   ]
  },
  {
   "cell_type": "markdown",
   "id": "3de5e0f9",
   "metadata": {},
   "source": [
    "# 005\n",
    "\n",
    "Ask the user to enter three numbers. Add together the first two numbers and then multiply this total by the third. Display the answer as\n",
    "\n",
    "The answer is [answer]. "
   ]
  },
  {
   "cell_type": "code",
   "execution_count": 7,
   "id": "86475c63",
   "metadata": {
    "scrolled": true
   },
   "outputs": [
    {
     "name": "stdout",
     "output_type": "stream",
     "text": [
      "1st Number: 7\n",
      "2nd Number: 4\n",
      "3rd Number: 2\n",
      "The answer is 22\n"
     ]
    }
   ],
   "source": [
    "num1 = int(input('1st Number: '))\n",
    "num2 = int(input('2nd Number: '))\n",
    "num3 = int(input('3rd Number: '))\n",
    "print(f\"The answer is {(num1+num2)*num3}\")\n"
   ]
  },
  {
   "cell_type": "markdown",
   "id": "72395fd4",
   "metadata": {},
   "source": [
    "# 006\n",
    "\n",
    "Ask how many slices of pizza the user started with and ask how many slices they have eaten. Work out how many slices they have left and display the answer in a userfriendly format. "
   ]
  },
  {
   "cell_type": "code",
   "execution_count": 10,
   "id": "612eef6c",
   "metadata": {},
   "outputs": [
    {
     "name": "stdout",
     "output_type": "stream",
     "text": [
      "How Many Slices of Pizza: 30\n",
      "How Many Slices Eaten: 8\n",
      "22 slices of pizza left.\n"
     ]
    }
   ],
   "source": [
    "pizza = int(input('How Many Slices of Pizza: '))\n",
    "eaten = int(input('How Many Slices Eaten: '))\n",
    "print(f\"{pizza-eaten} slices of pizza left.\")"
   ]
  },
  {
   "cell_type": "markdown",
   "id": "4d5b5a00",
   "metadata": {},
   "source": [
    "# 007\n",
    "\n",
    "Ask the user for their name and their age. Add 1 to their age and display the output \n",
    "\n",
    "[Name] next birthday you will be [new age]. "
   ]
  },
  {
   "cell_type": "code",
   "execution_count": 11,
   "id": "d7875d2b",
   "metadata": {},
   "outputs": [
    {
     "name": "stdout",
     "output_type": "stream",
     "text": [
      "Name: halil\n",
      "Age: 20\n",
      "Halil next birthday you will be 21\n"
     ]
    }
   ],
   "source": [
    "name = input('Name: ').title()\n",
    "age = int(input('Age: '))\n",
    "print(f\"{name} next birthday you will be {age+1}\")"
   ]
  },
  {
   "cell_type": "markdown",
   "id": "f3173db2",
   "metadata": {},
   "source": [
    "# 008\n",
    "\n",
    "Ask for the total price of the bill, then ask how many diners there are. Divide the total bill by the number of diners and show how much each person must pay. "
   ]
  },
  {
   "cell_type": "code",
   "execution_count": 13,
   "id": "af4bcc82",
   "metadata": {},
   "outputs": [
    {
     "name": "stdout",
     "output_type": "stream",
     "text": [
      "What is the total cost of the bill: 100\n",
      "How many people are there: 100\n",
      "Each person should pay: 1.0\n"
     ]
    }
   ],
   "source": [
    "bill = int(input('What is the total cost of the bill: '))\n",
    "people = int(input('How many people are there: '))\n",
    "print(f\"Each person should pay: {bill/people}\")"
   ]
  },
  {
   "cell_type": "markdown",
   "id": "e4a8cf68",
   "metadata": {},
   "source": [
    "# 009\n",
    "\n",
    "Write a program that will ask for a number of days and then will show how many hours, minutes and seconds are in that number of days. "
   ]
  },
  {
   "cell_type": "code",
   "execution_count": 15,
   "id": "f3f851a1",
   "metadata": {},
   "outputs": [
    {
     "name": "stdout",
     "output_type": "stream",
     "text": [
      "How Many Day: 1\n",
      "1 day = 24 hours\n",
      "1 day = 1440 minutes\n",
      "1 day = 86400 seconds\n"
     ]
    }
   ],
   "source": [
    "day = int(input('How Many Day: '))\n",
    "print(f\"{day} day = {day*24} hours\\n{day} day = {day*24*60} minutes\\n{day} day = {day*24*60*60} seconds\")"
   ]
  },
  {
   "cell_type": "markdown",
   "id": "eaaf62aa",
   "metadata": {},
   "source": [
    "# 010\n",
    "\n",
    "There are 2,204 pounds in a kilogram. Ask the user to enter a weight in kilograms and convert it to pounds. "
   ]
  },
  {
   "cell_type": "code",
   "execution_count": 3,
   "id": "1c5645e1",
   "metadata": {},
   "outputs": [
    {
     "name": "stdout",
     "output_type": "stream",
     "text": [
      "Enter a weight in kilograms: 22\n",
      "22 kilograms = 48.48800000000001 pounds\n"
     ]
    }
   ],
   "source": [
    "ask = int(input('Enter a weight in kilograms: '))\n",
    "print(f\"{ask} kilograms = {ask*2.204} pounds\")"
   ]
  },
  {
   "cell_type": "markdown",
   "id": "542c50ff",
   "metadata": {},
   "source": [
    "# 011\n",
    "\n",
    "Task the user to enter a number over 100 and then enter a number under 10 and tell them how many times the smaller number goes into the larger number in a user-friendly format. "
   ]
  },
  {
   "cell_type": "code",
   "execution_count": 6,
   "id": "b24d0b08",
   "metadata": {},
   "outputs": [
    {
     "name": "stdout",
     "output_type": "stream",
     "text": [
      "Enter a number over 100:  440\n",
      "Enter a number under 10:  20\n",
      "20 goes into 440: 22\n"
     ]
    }
   ],
   "source": [
    "num1 = int(input('Enter a number over 100:  '))\n",
    "num2 = int(input('Enter a number under 10:  '))\n",
    "print(f\"{num2} goes into {num1}: {num1//num2}\")"
   ]
  },
  {
   "cell_type": "markdown",
   "id": "62e3a7bb",
   "metadata": {},
   "source": [
    "# ----------------------------------------IF STATEMENTS----------------------------------------"
   ]
  },
  {
   "cell_type": "markdown",
   "id": "e808e5d0",
   "metadata": {},
   "source": [
    "# 012\n",
    "\n",
    "Ask for two numbers. If the first one is larger than the second, display the second number first and then the first number, otherwise show the first number first and then the second. "
   ]
  },
  {
   "cell_type": "code",
   "execution_count": 5,
   "id": "02996bf6",
   "metadata": {},
   "outputs": [
    {
     "name": "stdout",
     "output_type": "stream",
     "text": [
      "1st Number: 9\n",
      "2nd Number: 4\n",
      "4 - 9\n"
     ]
    }
   ],
   "source": [
    "num1 = int(input('1st Number: '))\n",
    "num2 = int(input('2nd Number: '))\n",
    "\n",
    "if num1 > num2:\n",
    "    print(num2, '-', num1)\n",
    "else:\n",
    "    print(num1, '-', num2)"
   ]
  },
  {
   "cell_type": "markdown",
   "id": "8743e8d9",
   "metadata": {},
   "source": [
    "# 013\n",
    "\n",
    "Ask the user to enter a number that is under 20. If they enter a number that is 20 or more, display the message “Too high”, otherwise display “Thank you”. "
   ]
  },
  {
   "cell_type": "code",
   "execution_count": 10,
   "id": "5282fa60",
   "metadata": {},
   "outputs": [
    {
     "name": "stdout",
     "output_type": "stream",
     "text": [
      "Enter a number less than 20: 20\n",
      "Too high!\n"
     ]
    }
   ],
   "source": [
    "num = int(input('Enter a number less than 20: '))\n",
    "if num >= 20:\n",
    "    print('Too high!')\n",
    "else:\n",
    "    print('Thank You!')"
   ]
  },
  {
   "cell_type": "markdown",
   "id": "93a38b26",
   "metadata": {},
   "source": [
    "# 014 \n",
    "\n",
    "Ask the user to enter a number between 10 and 20 (inclusive). If they enter a number within this range, display the message “Thank you”, otherwise display the message “Incorrect answer”. "
   ]
  },
  {
   "cell_type": "code",
   "execution_count": 18,
   "id": "d4c618e6",
   "metadata": {},
   "outputs": [
    {
     "name": "stdout",
     "output_type": "stream",
     "text": [
      "Enter a number between 10 and 20 (inclusive): 22\n",
      "Incorrect answer!\n"
     ]
    }
   ],
   "source": [
    "num = int(input('Enter a number between 10 and 20 (inclusive): '))\n",
    "if 10 <= num <= 20:\n",
    "    print('Thank You!')\n",
    "else:\n",
    "    print('Incorrect answer!')"
   ]
  },
  {
   "cell_type": "code",
   "execution_count": 15,
   "id": "c7a62dfc",
   "metadata": {},
   "outputs": [
    {
     "name": "stdout",
     "output_type": "stream",
     "text": [
      "Enter a number between 10 and 20 (inclusive): 14\n",
      "Thank You!\n"
     ]
    }
   ],
   "source": [
    "num = int(input('Enter a number between 10 and 20 (inclusive): '))\n",
    "if num in range(10, 21):\n",
    "    print('Thank You!')\n",
    "else:\n",
    "    print('Incorrect answer!')"
   ]
  },
  {
   "cell_type": "markdown",
   "id": "89afec5b",
   "metadata": {},
   "source": [
    "# 015\n",
    "\n",
    "Ask the user to enter their favourite colour. If they enter “red”, “RED” or “Red” display the message “I like red too”, otherwise display the message “I don’t like [colour], I prefer red”. "
   ]
  },
  {
   "cell_type": "code",
   "execution_count": 30,
   "id": "d909b9d7",
   "metadata": {},
   "outputs": [
    {
     "name": "stdout",
     "output_type": "stream",
     "text": [
      "Enter your favourite color: black\n",
      "I don't like black, I prefer red.\n"
     ]
    }
   ],
   "source": [
    "color = input('Enter your favourite color: ')\n",
    "\n",
    "if color == 'red' or color == 'Red' or color == 'RED':\n",
    "    print('I like red too!')\n",
    "else:\n",
    "    print(f\"I don't like {color}, I prefer red.\")"
   ]
  },
  {
   "cell_type": "markdown",
   "id": "f0730d0c",
   "metadata": {},
   "source": [
    "# 016\n",
    "\n",
    "Ask the user if it is raining and convert their answer to lower case so it doesn’t matter what case they type it in. If they answer “yes”, ask if it is windy. If they answer “yes” to this second question, display the answer “It is too windy for an umbrella”, otherwise display the message “Take an umbrella”. If they did not answer yes to the first question, display the answer “Enjoy your day”. "
   ]
  },
  {
   "cell_type": "code",
   "execution_count": 34,
   "id": "dcb14063",
   "metadata": {},
   "outputs": [
    {
     "name": "stdout",
     "output_type": "stream",
     "text": [
      "Is it raining?:\n",
      "(yes/no): yes\n",
      "It is windy?\n",
      "(yes/no): yes\n",
      "It is too windy for an umbrella.\n"
     ]
    }
   ],
   "source": [
    "ask = input('Is it raining?:\\n(yes/no): ').lower()\n",
    "\n",
    "if ask == 'yes':\n",
    "    ask2 = input('It is windy?\\n(yes/no): ')\n",
    "    if ask2 == 'yes':\n",
    "        print('It is too windy for an umbrella.')\n",
    "    else:\n",
    "        print('Take an umbrella!')\n",
    "else:\n",
    "    print('Enjoy your day!')\n",
    "        "
   ]
  },
  {
   "cell_type": "markdown",
   "id": "aa029ce2",
   "metadata": {},
   "source": [
    "# 017\n",
    "\n",
    "Ask the user’s age. If they are 18 or over, display the message “You can vote”, if they are aged 17, display the message “You can learn to drive”, if they are 16, display the message “You can buy a lottery ticket”, if they are under 16, display the message “You can go Trickor-Treating”. "
   ]
  },
  {
   "cell_type": "code",
   "execution_count": 41,
   "id": "bf2463b6",
   "metadata": {},
   "outputs": [
    {
     "name": "stdout",
     "output_type": "stream",
     "text": [
      "Enter your age: 20\n",
      "You can vote.\n"
     ]
    }
   ],
   "source": [
    "age = int(input('Enter your age: '))\n",
    "\n",
    "if age >= 18:\n",
    "    print('You can vote.')\n",
    "elif age == 17:\n",
    "    print('You can learn to drive.')\n",
    "elif age == 16:\n",
    "    print('You can buy a lottery ticket.')\n",
    "else:\n",
    "    print('You can go Trickor-Treating')"
   ]
  },
  {
   "cell_type": "markdown",
   "id": "c2b350c4",
   "metadata": {},
   "source": [
    "# 018\n",
    "\n",
    "Ask the user to enter a number. If it is under 10, display the message “Too low”, if their number is between 10 and 20, display “Correct”, otherwise display “Too high”. "
   ]
  },
  {
   "cell_type": "code",
   "execution_count": 45,
   "id": "ce5ef212",
   "metadata": {},
   "outputs": [
    {
     "name": "stdout",
     "output_type": "stream",
     "text": [
      "Enter a number: 22\n",
      "Too high!\n"
     ]
    }
   ],
   "source": [
    "num = int(input('Enter a number: '))\n",
    "\n",
    "if num < 10:\n",
    "    print('Too low!')\n",
    "elif 10 <= num <= 20:\n",
    "    print('Correct!')\n",
    "else:\n",
    "    print('Too high!')"
   ]
  },
  {
   "cell_type": "code",
   "execution_count": 67,
   "id": "6a50709e",
   "metadata": {},
   "outputs": [
    {
     "name": "stdout",
     "output_type": "stream",
     "text": [
      "Enter a number: 22\n",
      "Too High\n"
     ]
    }
   ],
   "source": [
    "num = int(input('Enter a number: '))\n",
    "\n",
    "print('Too low!') if num < 10 else (print('Correct!') if 10 <= num <=20 else print('Too High'))"
   ]
  },
  {
   "cell_type": "markdown",
   "id": "7f617031",
   "metadata": {},
   "source": [
    "# 019\n",
    "\n",
    "Ask the user to enter 1, 2 or 3. If they enter a 1, display the message “Thank you”, if they enter a 2, display “Well done”, if they enter a 3, display “Correct”. If they enter anything else, display “Error message”. "
   ]
  },
  {
   "cell_type": "code",
   "execution_count": 73,
   "id": "46a21529",
   "metadata": {},
   "outputs": [
    {
     "name": "stdout",
     "output_type": "stream",
     "text": [
      "Enter a number\n",
      "(1, 2 or 3): 7\n",
      "Error message!\n"
     ]
    }
   ],
   "source": [
    "ask = input('Enter a number\\n(1, 2 or 3): ')\n",
    "\n",
    "print('Thank you!') if ask == '1' else (print('Well done!') if ask == '2' else (print('Correct!') if ask == '3' else print('Error message!'))) "
   ]
  },
  {
   "cell_type": "markdown",
   "id": "2e83c674",
   "metadata": {},
   "source": [
    "# --------------------------------------STRINGS--------------------------------------"
   ]
  },
  {
   "cell_type": "markdown",
   "id": "14c7e08e",
   "metadata": {},
   "source": [
    "# 020\n",
    "\n",
    "Ask the user to enter their first name and then display the length of their name. "
   ]
  },
  {
   "cell_type": "code",
   "execution_count": null,
   "id": "d5ec1f28",
   "metadata": {},
   "outputs": [],
   "source": []
  },
  {
   "cell_type": "markdown",
   "id": "d63c6919",
   "metadata": {},
   "source": [
    "# 021\n",
    "\n",
    "Ask the user to enter their first name and then ask them to enter their surname. Join them together with a space between and display the name and the length of whole name. "
   ]
  },
  {
   "cell_type": "code",
   "execution_count": null,
   "id": "e6716bb7",
   "metadata": {},
   "outputs": [],
   "source": []
  },
  {
   "cell_type": "markdown",
   "id": "0b563bcf",
   "metadata": {},
   "source": [
    "# 022\n",
    "\n",
    "Ask the user to enter their first name and surname in lower case. Change the case to title case and join them together. Display the finished result. "
   ]
  },
  {
   "cell_type": "code",
   "execution_count": null,
   "id": "858762ff",
   "metadata": {},
   "outputs": [],
   "source": []
  },
  {
   "cell_type": "markdown",
   "id": "e7312203",
   "metadata": {},
   "source": [
    "# 023\n",
    "\n",
    "Ask the user to type in the first line of a nursery rhyme and display the length of the string. Ask for a starting number and an ending number and then display just that section of the text (remember Python starts counting from 0 and not 1). "
   ]
  },
  {
   "cell_type": "code",
   "execution_count": null,
   "id": "aec44880",
   "metadata": {},
   "outputs": [],
   "source": []
  },
  {
   "cell_type": "markdown",
   "id": "87baca05",
   "metadata": {},
   "source": [
    "# 024\n",
    "\n",
    "Ask the user to type in any word and display it in upper case. "
   ]
  },
  {
   "cell_type": "code",
   "execution_count": null,
   "id": "2aeceaaf",
   "metadata": {},
   "outputs": [],
   "source": []
  },
  {
   "cell_type": "markdown",
   "id": "b1e6116e",
   "metadata": {},
   "source": [
    "# 025\n",
    "\n",
    "Ask the user to enter their first name. If the length of their first name is under five characters, ask them to enter their surname and join them together (without a space) and display the name in upper case. If the length of the first name is five or more characters, display their first name in lower case. "
   ]
  },
  {
   "cell_type": "code",
   "execution_count": null,
   "id": "508faba3",
   "metadata": {},
   "outputs": [],
   "source": []
  },
  {
   "cell_type": "markdown",
   "id": "c39ac73d",
   "metadata": {},
   "source": [
    "# 026\n",
    "\n",
    "Pig Latin takes the first consonant of a word, moves it to the end of the word and adds on an “ay”. If a word begins with a vowel you just add “way” to the end. For example, pig becomes igpay, banana becomes ananabay, and aadvark becomes aadvarkway. Create a program that will ask the user to enter a word and change it into Pig Latin. Make sure the new word is displayed in lower case. "
   ]
  },
  {
   "cell_type": "code",
   "execution_count": null,
   "id": "3ad8b3ea",
   "metadata": {},
   "outputs": [],
   "source": []
  },
  {
   "cell_type": "code",
   "execution_count": null,
   "id": "dfa27178",
   "metadata": {},
   "outputs": [],
   "source": []
  },
  {
   "cell_type": "code",
   "execution_count": null,
   "id": "44416fc3",
   "metadata": {},
   "outputs": [],
   "source": []
  }
 ],
 "metadata": {
  "kernelspec": {
   "display_name": "Python 3 (ipykernel)",
   "language": "python",
   "name": "python3"
  },
  "language_info": {
   "codemirror_mode": {
    "name": "ipython",
    "version": 3
   },
   "file_extension": ".py",
   "mimetype": "text/x-python",
   "name": "python",
   "nbconvert_exporter": "python",
   "pygments_lexer": "ipython3",
   "version": "3.9.12"
  }
 },
 "nbformat": 4,
 "nbformat_minor": 5
}
